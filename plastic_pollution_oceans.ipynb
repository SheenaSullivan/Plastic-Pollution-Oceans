{
 "cells": [
  {
   "cell_type": "code",
   "execution_count": null,
   "metadata": {},
   "outputs": [],
   "source": [
    "print(\"Recent contributors and numbers to the plastic pullution in our waterways.\")\n",
    "\n",
    "#Ingest, analyze and display multiple pieces of data.\n",
    "\n",
    "import pandas as pd # pandas is being used for data cleansing and normalization\n",
    "import numpy as np # is being used for mathematical operations\n",
    "import matplotlib.pyplot as plt # is used for data visualization\n",
    "import matplotlib.patches as mpatches\n",
    "import seaborn as sns # the data visualization library used in conjuction with matplotlib\n",
    "import plotly.express as px # for plotting the data on world mapfrom \n",
    "from mpl_toolkits.basemap import Basemap\n",
    "from IPython.display import Image\n",
    "\n",
    "\n",
    "\n"
   ]
  },
  {
   "cell_type": "markdown",
   "metadata": {},
   "source": [
    "Import csv & xlsx files for data parsing."
   ]
  },
  {
   "cell_type": "code",
   "execution_count": null,
   "metadata": {},
   "outputs": [],
   "source": [
    "#Import data from csv file downloaded from ourworldindata.org/plastic-pullution\n",
    "global_share = pd.read_csv(r\"assets\\global_mismanaged_plastic_waste.csv\")\n",
    "rivers = pd.read_csv(r\"assets\\plastics_top_rivers.csv\")\n",
    "ocean_totals = pd.read_csv(r\"assets\\ocean_waste_ton.csv\")\n",
    "global_waste = pd.read_csv(r\"assets\\global_waste_2_ocean.csv\")\n",
    "marine_wildlife = pd.read_excel (r\"assets\\marine_wildlife.xlsx\")"
   ]
  },
  {
   "cell_type": "code",
   "execution_count": null,
   "metadata": {},
   "outputs": [],
   "source": [
    "#Intro image\n",
    "print(\"There is no other option!\")\n",
    "Image(url= \"assets/intro.jpg\", width=500, height=400)"
   ]
  },
  {
   "cell_type": "markdown",
   "metadata": {},
   "source": [
    "Cleanse and merge csv files to produce the answer to \"Which countries produce the most plastic waste?\" and \"Which countries emit most plastic waste to the oceans?\" This data will be displayed in a stacked bar chart."
   ]
  },
  {
   "cell_type": "code",
   "execution_count": null,
   "metadata": {},
   "outputs": [],
   "source": [
    "#Cleanse imported csv file\n",
    "#Answer question: Which countries produce the most plastic waste? and Which countries emit most plastic waste to the oceans? in a stacked bar chart.\n",
    "\n",
    "#drop unnecessary columns and rename remaining\n",
    "global_share.drop([\"Year\",\"Code\"], axis=1, inplace=True)\n",
    "global_share.rename(columns = {\"Share of global mismanaged plastic waste\": \"Mismanaged plastic waste\"}, inplace=True)\n",
    "global_share\n",
    "global_waste.drop([\"Year\",\"Code\"], axis=1, inplace=True)\n",
    "global_waste.rename(columns = {\"Global waste to ocean percentage\": \"Waste to ocean\"}, inplace=True)\n",
    "global_waste\n",
    "\n",
    "#merge 2 csv files and sort data based on Entity\n",
    "combined = pd.merge(global_share, global_waste, how=\"outer\", on=[\"Entity\"])\n",
    "combined_values = pd.DataFrame(combined, columns=[\"Entity\", \"Mismanaged plastic waste\", \"Waste to ocean\"])\n",
    "combined_sorted = combined_values.sort_values(by=\"Mismanaged plastic waste\", ascending=False)\n",
    "combined_sorted.set_index(\"Entity\", inplace=True)\n",
    "ranking = combined_sorted.head(15)\n",
    "\n",
    "#print(combined_sorted.head(15))\n",
    "\n",
    "# Design horizontal grouped bar chart\n",
    "first_bar = ranking[\"Mismanaged plastic waste\"]\n",
    "first_bar_label = \"Mismanaged waste\"\n",
    "first_bar_color = \"sandybrown\"\n",
    "second_bar = ranking[\"Waste to ocean\"]\n",
    "second_bar_label = \"Emitted to ocean\"\n",
    "second_bar_color = \"mediumseagreen\"\n",
    "labels = ranking.index\n",
    "width = 0.4  \n",
    "plot_title = \"Top contributors to ocean waste\"\n",
    "title_size = 18\n",
    "filename = 'barh-plot'\n",
    "\n",
    "fig, ax = plt.subplots(figsize=(20,12), facecolor=(.94, .94, .94))\n",
    "plt.tight_layout()\n",
    "y = np.arange(len(labels))  \n",
    "perc1 = ax.barh(y + width/2, first_bar, width, label=first_bar_label, color=first_bar_color)\n",
    "perc2 = ax.barh(y - width/2, second_bar, width, label=second_bar_label, color=second_bar_color)\n",
    "plt.gca().invert_yaxis()\n",
    "title = plt.title(plot_title, pad=20, fontsize=title_size)\n",
    "title.set_position([.35, 1])\n",
    "plt.subplots_adjust(left=0.35, top=0.9)\n",
    "\n",
    "\n",
    "ax.set_yticks(y)\n",
    "ax.set_yticklabels(labels)\n",
    "\n",
    "ax.bar_label(perc1, fmt='%.2f%%', padding=5)\n",
    "ax.bar_label(perc2, fmt='%.2f%%', padding=5)\n",
    "\n",
    "ax.legend()\n",
    "plt.yticks(np.arange(min(y), max(y)+1, 1.0))\n",
    "plt.show()\n",
    "\n"
   ]
  },
  {
   "cell_type": "markdown",
   "metadata": {},
   "source": [
    "CLeanse csv and display \"Which rivers emit the most plastic to the ocean?\" in a horizontal bar chart."
   ]
  },
  {
   "cell_type": "code",
   "execution_count": null,
   "metadata": {},
   "outputs": [],
   "source": [
    "#Cleanse imported csv file\n",
    "#Answer question: Which rivers emit most plastic to oceans?\n",
    "\n",
    "#drop unnecessary columns and rename remaining\n",
    "rivers.drop([\"Year\",\"Code\"], axis=1, inplace=True)\n",
    "rivers.rename(columns = {\"Global plastics emitted to ocean in percentage\": \"River Percentage\"}, inplace=True)\n",
    "rivers\n",
    "\n",
    "#sort data based on percentage\n",
    "top_10_rivers = rivers.sort_values(by=[\"River Percentage\"], ascending=False).head(10)\n",
    "top_10_rivers[\"River Percentage\"] = top_10_rivers[\"River Percentage\"].round(2)\n",
    "#print(top_10_rivers)\n",
    "\n",
    "\n",
    "#set x,y paramerters\n",
    "perc=top_10_rivers[\"River Percentage\"]\n",
    "entity=top_10_rivers[\"Entity\"]\n",
    "\n",
    "\n",
    "plt.figure(figsize=(15,12))\n",
    "bars = plt.barh(entity, perc, color='seagreen', label=\"center\")\n",
    "\n",
    "for bar in bars:\n",
    "    width = bar.get_width()\n",
    "    label_y = bar.get_y() + bar.get_height() /2\n",
    "    plt.text(width, label_y, s=f\"{width}\" + \"%\")\n",
    "        \n",
    "\n",
    "plt.gca().invert_yaxis()\n",
    "plt.title(\"Which rivers emit the most plastic waste to the oceans?\", fontsize=18)\n",
    "plt.ylabel(\"River\")\n",
    "plt.xlabel(\"Percentage\")\n",
    "\n",
    "\n",
    "plt.show()\n",
    "\n"
   ]
  },
  {
   "cell_type": "markdown",
   "metadata": {},
   "source": [
    "Cleanse csv and answer \"Which oceans have the most plastic waste?\" in a Basemap diagram."
   ]
  },
  {
   "cell_type": "code",
   "execution_count": null,
   "metadata": {},
   "outputs": [],
   "source": [
    "#Cleanse imported csv file\n",
    "#Answer question: Which oceans have the most plastic waste?\n",
    "\n",
    "#drop unnecessary columns and rename\n",
    "ocean_totals.drop(['Code', 'Year'], axis=1, inplace=True)\n",
    "ocean_totals\n",
    "ocean_totals.rename(columns = {'All sizes (total mass) ton': 'Total Mass (ton)'}, inplace=True)\n",
    "ocean_totals\n",
    "#print(ocean_totals)\n",
    "\n",
    "#bold font\n",
    "print(\"\\033[91m\" + \"The total global amount of plastic in the oceans is 268,950 tons!\" + \"\\033[0m\")\n",
    "\n",
    "#design world map\n",
    "fig = plt.figure(num=None, figsize=(12, 12) )\n",
    "m = Basemap(projection='merc',llcrnrlat=-80,urcrnrlat=80,llcrnrlon=-180,urcrnrlon=180,resolution='c')\n",
    "m.drawmapboundary(fill_color='#A6CAE0')\n",
    "m.drawcoastlines()\n",
    "m.fillcontinents(color='tan',lake_color='lightblue')\n",
    "\n",
    "\n",
    "#add annotations to map\n",
    "plt.annotate('Indian\\n Ocean\\n 59,130 tons', m(68.75,-8.35), fontsize=10, ha='center', va='center')\n",
    "plt.annotate('Mediterranean\\n Sea\\n 23,150\\n tons', m(17.94,36.09), xytext=m(-19.56,56.87), fontsize=10, ha='center', va='center', arrowprops=dict(arrowstyle=\"fancy\", color='black'))\n",
    "plt.annotate('North\\n Atlantic\\n Ocean\\n 56,470 tons', m(-49.57,32.57), fontsize=10, ha='center', va='center')\n",
    "plt.annotate('South\\n Atlantic\\n Ocean\\n 12,780 tons', m(-17.56,-18.53), fontsize=10, ha='center', va='center')\n",
    "plt.annotate('North\\n Pacific\\n Ocean\\n 96,400 tons', m(-145.88,48.32), fontsize=10, ha='center', va='center')\n",
    "plt.annotate('South\\n Pacific\\n Ocean\\n 21,020 tons', m(-116.53,-0.53), fontsize=10, ha='center', va='center')\n",
    "plt.title('Which ocean has the most plastic waste?', fontsize=20, color='white')\n",
    "plt.show()"
   ]
  },
  {
   "cell_type": "markdown",
   "metadata": {},
   "source": [
    "Cleanse xlsx diagram the answer to \"How does this impact marine wildlife?\" "
   ]
  },
  {
   "cell_type": "code",
   "execution_count": null,
   "metadata": {},
   "outputs": [],
   "source": [
    "#Answer question: How does this impact marine wildlife?\n",
    "#gathered from https://www.sciencedirect.com/science/article/pii/S0025326X19310148?via%3Dihub\n",
    "\n",
    "\n",
    "marine_wildlife = pd.read_excel(\"assets\\marine_wildlife.xlsx\", sheet_name= \"wildlife_grouped\")\n",
    "marine_wildlife.set_index('species studied', inplace=True)\n",
    "marine_wildlife\n",
    "\n",
    "ax = marine_wildlife.iloc[:, [3, 2]].plot.bar(align='center', stacked=True, figsize=(12, 12), color= [\"lightcoral\", \"lightseagreen\"])\n",
    "plt.tight_layout()\n",
    "\n",
    "title = plt.title('Impact of plastic waste on marine wildlife', pad=20, fontsize=18, color= \"black\")\n",
    "\n",
    "plt.subplots_adjust(top=0.8, left=0.26)\n",
    "plt.xlabel(\"Marine Wildlife\", fontsize = 12, color = \"black\")\n",
    "plt.xticks(fontsize = 10, rotation = 45, ha=\"right\")\n",
    "plt.yticks(fontsize = 10)\n",
    "\n",
    "legend = plt.legend(loc='upper right')\n",
    "\n",
    "bbox_props = dict(boxstyle=\"round\", fc=\"w\", ec=\"0.5\", alpha=0.9)\n",
    "ax.text(1,40000,\"Percentage of Occurance: \\n Seabirds 27.7% \\n Mammals 4.41% \\n Turtles 32%\", ha=\"center\", va=\"center\", size=12, bbox=bbox_props) \n",
    "\n",
    "for p in ax.patches:\n",
    "    width, height = p.get_width(), p.get_height()\n",
    "    x, y = p.get_xy() \n",
    "    ax.text(x+width/2, \n",
    "            y+height/2,\n",
    "            '{:.0f}'.format(height), \n",
    "            ha='center', \n",
    "            va='center',\n",
    "            color='black',\n",
    "            fontsize=14,)\n",
    "\n",
    "plt.show()"
   ]
  },
  {
   "cell_type": "code",
   "execution_count": null,
   "metadata": {},
   "outputs": [],
   "source": [
    "#What can we do image\n",
    "print(\"Let's do what we can to reduce plastic waste!\")\n",
    "Image(url= \"assets/reduce_waste.jpg\", width=750, height=750)"
   ]
  }
 ],
 "metadata": {
  "kernelspec": {
   "display_name": "Python 3.10.5 64-bit",
   "language": "python",
   "name": "python3"
  },
  "language_info": {
   "codemirror_mode": {
    "name": "ipython",
    "version": 3
   },
   "file_extension": ".py",
   "mimetype": "text/x-python",
   "name": "python",
   "nbconvert_exporter": "python",
   "pygments_lexer": "ipython3",
   "version": "3.10.5"
  },
  "orig_nbformat": 4,
  "vscode": {
   "interpreter": {
    "hash": "bbbfaa04ea49032bada6a620758d47dad04e0dd0df212ae9f3eea5ce073a02a4"
   }
  }
 },
 "nbformat": 4,
 "nbformat_minor": 2
}
