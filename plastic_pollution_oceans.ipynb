{
 "cells": [
  {
   "cell_type": "code",
   "execution_count": 363,
   "metadata": {},
   "outputs": [
    {
     "name": "stdout",
     "output_type": "stream",
     "text": [
      "Recent contributors and numbers to the plastic pullution in our waterways.\n"
     ]
    }
   ],
   "source": [
    "print(\"Recent contributors and numbers to the plastic pullution in our waterways.\")\n",
    "\n",
    "#Ingest, analyze and display multiple pieces of data.\n",
    "\n",
    "import pandas as pd # pandas is being used for data cleansing and normalization\n",
    "import numpy as np # is being used for mathematical operations\n",
    "import matplotlib.pyplot as plt # is used for data visualization\n",
    "import seaborn as sns # the data visualization library used in conjuction with matplotlib\n",
    "import plotly.express as px # for plotting the data on world mapfrom \n",
    "from mpl_toolkits.basemap import Basemap\n",
    "import math\n",
    "#import datetime # for the count down until the project is to be turned in\n"
   ]
  },
  {
   "cell_type": "code",
   "execution_count": 364,
   "metadata": {},
   "outputs": [],
   "source": [
    "#Import data from csv file downloaded from ourworldindata.org/plastic-pullution\n",
    "global_share = pd.read_csv(r\"assets\\global_mismanaged_plastic_waste.csv\")\n",
    "rivers = pd.read_csv(r\"assets\\plastics_top_rivers.csv\")\n",
    "ocean_totals = pd.read_csv(r\"assets\\ocean_waste_ton.csv\")\n",
    "global_waste = pd.read_csv(r\"assets\\global_waste_2_ocean.csv\")"
   ]
  },
  {
   "cell_type": "code",
   "execution_count": 365,
   "metadata": {},
   "outputs": [
    {
     "ename": "TypeError",
     "evalue": "DataFrame.sort_values() got an unexpected keyword argument 'skiprows'",
     "output_type": "error",
     "traceback": [
      "\u001b[1;31m---------------------------------------------------------------------------\u001b[0m",
      "\u001b[1;31mTypeError\u001b[0m                                 Traceback (most recent call last)",
      "\u001b[1;32mc:\\Users\\snsul\\Desktop\\Plastic-Pollution-Oceans\\plastic_pollution_oceans.ipynb Cell 3'\u001b[0m in \u001b[0;36m<cell line: 7>\u001b[1;34m()\u001b[0m\n\u001b[0;32m      <a href='vscode-notebook-cell:/c%3A/Users/snsul/Desktop/Plastic-Pollution-Oceans/plastic_pollution_oceans.ipynb#ch0000002?line=3'>4</a>\u001b[0m global_share\n\u001b[0;32m      <a href='vscode-notebook-cell:/c%3A/Users/snsul/Desktop/Plastic-Pollution-Oceans/plastic_pollution_oceans.ipynb#ch0000002?line=4'>5</a>\u001b[0m \u001b[39m#print(global_share.head(15))\u001b[39;00m\n\u001b[1;32m----> <a href='vscode-notebook-cell:/c%3A/Users/snsul/Desktop/Plastic-Pollution-Oceans/plastic_pollution_oceans.ipynb#ch0000002?line=6'>7</a>\u001b[0m top_30 \u001b[39m=\u001b[39m global_share\u001b[39m.\u001b[39;49msort_values(by\u001b[39m=\u001b[39;49m[\u001b[39m'\u001b[39;49m\u001b[39mShare of global mismanaged plastic waste\u001b[39;49m\u001b[39m'\u001b[39;49m], ascending\u001b[39m=\u001b[39;49m\u001b[39mFalse\u001b[39;49;00m, skiprows\u001b[39m=\u001b[39;49m[\u001b[39m0\u001b[39;49m,\u001b[39m6\u001b[39;49m,\u001b[39m143\u001b[39;49m,\u001b[39m107\u001b[39;49m])\n\u001b[0;32m      <a href='vscode-notebook-cell:/c%3A/Users/snsul/Desktop/Plastic-Pollution-Oceans/plastic_pollution_oceans.ipynb#ch0000002?line=8'>9</a>\u001b[0m \u001b[39mprint\u001b[39m(top_30\u001b[39m.\u001b[39mhead(\u001b[39m15\u001b[39m))\n",
      "File \u001b[1;32mc:\\Users\\snsul\\AppData\\Local\\Programs\\Python\\Python310\\lib\\site-packages\\pandas\\util\\_decorators.py:311\u001b[0m, in \u001b[0;36mdeprecate_nonkeyword_arguments.<locals>.decorate.<locals>.wrapper\u001b[1;34m(*args, **kwargs)\u001b[0m\n\u001b[0;32m    305\u001b[0m \u001b[39mif\u001b[39;00m \u001b[39mlen\u001b[39m(args) \u001b[39m>\u001b[39m num_allow_args:\n\u001b[0;32m    306\u001b[0m     warnings\u001b[39m.\u001b[39mwarn(\n\u001b[0;32m    307\u001b[0m         msg\u001b[39m.\u001b[39mformat(arguments\u001b[39m=\u001b[39marguments),\n\u001b[0;32m    308\u001b[0m         \u001b[39mFutureWarning\u001b[39;00m,\n\u001b[0;32m    309\u001b[0m         stacklevel\u001b[39m=\u001b[39mstacklevel,\n\u001b[0;32m    310\u001b[0m     )\n\u001b[1;32m--> 311\u001b[0m \u001b[39mreturn\u001b[39;00m func(\u001b[39m*\u001b[39margs, \u001b[39m*\u001b[39m\u001b[39m*\u001b[39mkwargs)\n",
      "\u001b[1;31mTypeError\u001b[0m: DataFrame.sort_values() got an unexpected keyword argument 'skiprows'"
     ]
    }
   ],
   "source": [
    "#Cleanse imported csv file\n",
    "#Answer question: Which countries produce the most plastic waste?\n",
    "global_share.drop(['Year', 'Code'], axis=1, inplace=True)\n",
    "global_share\n",
    "#print(global_share.head(15))\n",
    "\n",
    "top_30 = global_share.sort_values(by=[\"Share of global mismanaged plastic waste\"], ascending=False)\n",
    "\n",
    "print(top_30.head(15))\n",
    "\n",
    "\n",
    "\n"
   ]
  },
  {
   "cell_type": "code",
   "execution_count": null,
   "metadata": {},
   "outputs": [],
   "source": [
    "#Cleanse imported csv file\n",
    "#Answer question: Which rivers emit most plastic to oceans?\n",
    "rivers.drop(['Year','Code'], axis=1, inplace=True)\n",
    "rivers.rename(columns = {'Global plastics emitted to ocean in percentage': 'River Percentage'}, inplace=True)\n",
    "rivers\n",
    "\n",
    "top_10_rivers = rivers.sort_values(by=['River Percentage'], ascending=False).head(10)\n",
    "#top_10_rivers.head(10)\n",
    "\n",
    "print(top_10_rivers)\n",
    "\n",
    "X=top_10_rivers['River Percentage']\n",
    "Y=top_10_rivers['Entity']\n",
    "\n",
    "plt.figure(figsize=(12,12))\n",
    "plt.barh(Y,X, color='g')\n",
    "plt.gca().invert_yaxis()\n",
    "plt.title('Which rivers emit the most plastic waste to the oceans?')\n",
    "plt.ylabel('River')\n",
    "plt.xlabel('Percentage')\n",
    "plt.show()\n",
    "\n",
    "\n",
    "\n"
   ]
  },
  {
   "cell_type": "code",
   "execution_count": null,
   "metadata": {},
   "outputs": [],
   "source": [
    "#Cleanse imported csv file\n",
    "#Answer question: Which oceans have the most plastic waste?\n",
    "ocean_totals.drop(['Code', 'Year'], axis=1, inplace=True)\n",
    "ocean_totals\n",
    "ocean_totals.rename(columns = {'All sizes (total mass) ton': 'Total Mass (ton)'}, inplace=True)\n",
    "ocean_totals\n",
    "#ocean_totals.dtypes\n",
    "print(ocean_totals)\n",
    "print('The total global amount of plastic in the oceans is 268,950 tons!')\n",
    "\n",
    "\n",
    "fig = plt.figure(num=None, figsize=(12, 10) )\n",
    "m = Basemap(projection='merc',llcrnrlat=-80,urcrnrlat=80,llcrnrlon=-180,urcrnrlon=180,resolution='c')\n",
    "m.drawmapboundary(fill_color='#A6CAE0')\n",
    "m.drawcoastlines()\n",
    "m.fillcontinents(color='tan',lake_color='lightblue')\n",
    "\n",
    "\n",
    "\n",
    "plt.annotate('Indian\\n Ocean\\n 59,130 tons', m(68.75,-8.35), fontsize=10, ha='center', va='center')\n",
    "plt.annotate('Mediterranean\\n Sea\\n 23,150\\n tons', m(17.94,36.09), xytext=m(-19.56,56.87), fontsize=10, ha='center', va='center')\n",
    "plt.annotate('North\\n Atlantic\\n Ocean\\n 56,470 tons', m(-49.57,32.57), fontsize=10, ha='center', va='center')\n",
    "plt.annotate('South\\n Atlantic\\n Ocean\\n 12,780 tons', m(-17.56,-18.53), fontsize=10, ha='center', va='center')\n",
    "plt.annotate('North\\n Pacific\\n Ocean\\n 96,400 tons', m(-145.88,48.32), fontsize=10, ha='center', va='center')\n",
    "plt.annotate('South\\n Pacific\\n Ocean\\n 21,020 tons', m(-116.53,-0.53), fontsize=10, ha='center', va='center')\n",
    "plt.title('Which ocean has the most plastic waste?', fontsize=20, color='white')\n",
    "plt.show()"
   ]
  },
  {
   "cell_type": "code",
   "execution_count": 359,
   "metadata": {},
   "outputs": [
    {
     "ename": "KeyError",
     "evalue": "'Global waste to ocean percentage'",
     "output_type": "error",
     "traceback": [
      "\u001b[1;31m---------------------------------------------------------------------------\u001b[0m",
      "\u001b[1;31mKeyError\u001b[0m                                  Traceback (most recent call last)",
      "\u001b[1;32mc:\\Users\\snsul\\Desktop\\Plastic-Pollution-Oceans\\plastic_pollution_oceans.ipynb Cell 6'\u001b[0m in \u001b[0;36m<cell line: 6>\u001b[1;34m()\u001b[0m\n\u001b[0;32m      <a href='vscode-notebook-cell:/c%3A/Users/snsul/Desktop/Plastic-Pollution-Oceans/plastic_pollution_oceans.ipynb#ch0000005?line=3'>4</a>\u001b[0m \u001b[39m#global_waste.rename(columns = {\"Global waste to ocean percentage\": \"Waste Percentage\"}, inplace=True)\u001b[39;00m\n\u001b[0;32m      <a href='vscode-notebook-cell:/c%3A/Users/snsul/Desktop/Plastic-Pollution-Oceans/plastic_pollution_oceans.ipynb#ch0000005?line=4'>5</a>\u001b[0m global_waste\n\u001b[1;32m----> <a href='vscode-notebook-cell:/c%3A/Users/snsul/Desktop/Plastic-Pollution-Oceans/plastic_pollution_oceans.ipynb#ch0000005?line=5'>6</a>\u001b[0m top_20_contributers \u001b[39m=\u001b[39m global_waste\u001b[39m.\u001b[39;49msort_values(by\u001b[39m=\u001b[39;49m[\u001b[39m\"\u001b[39;49m\u001b[39mGlobal waste to ocean percentage\u001b[39;49m\u001b[39m\"\u001b[39;49m], axis\u001b[39m=\u001b[39;49m\u001b[39m1\u001b[39;49m, ascending\u001b[39m=\u001b[39;49m\u001b[39mFalse\u001b[39;49;00m)\u001b[39m.\u001b[39mhead(\u001b[39m10\u001b[39m)\n\u001b[0;32m      <a href='vscode-notebook-cell:/c%3A/Users/snsul/Desktop/Plastic-Pollution-Oceans/plastic_pollution_oceans.ipynb#ch0000005?line=6'>7</a>\u001b[0m \u001b[39mprint\u001b[39m(global_waste\u001b[39m.\u001b[39mhead(\u001b[39m15\u001b[39m))\n",
      "File \u001b[1;32mc:\\Users\\snsul\\AppData\\Local\\Programs\\Python\\Python310\\lib\\site-packages\\pandas\\util\\_decorators.py:311\u001b[0m, in \u001b[0;36mdeprecate_nonkeyword_arguments.<locals>.decorate.<locals>.wrapper\u001b[1;34m(*args, **kwargs)\u001b[0m\n\u001b[0;32m    305\u001b[0m \u001b[39mif\u001b[39;00m \u001b[39mlen\u001b[39m(args) \u001b[39m>\u001b[39m num_allow_args:\n\u001b[0;32m    306\u001b[0m     warnings\u001b[39m.\u001b[39mwarn(\n\u001b[0;32m    307\u001b[0m         msg\u001b[39m.\u001b[39mformat(arguments\u001b[39m=\u001b[39marguments),\n\u001b[0;32m    308\u001b[0m         \u001b[39mFutureWarning\u001b[39;00m,\n\u001b[0;32m    309\u001b[0m         stacklevel\u001b[39m=\u001b[39mstacklevel,\n\u001b[0;32m    310\u001b[0m     )\n\u001b[1;32m--> 311\u001b[0m \u001b[39mreturn\u001b[39;00m func(\u001b[39m*\u001b[39margs, \u001b[39m*\u001b[39m\u001b[39m*\u001b[39mkwargs)\n",
      "File \u001b[1;32mc:\\Users\\snsul\\AppData\\Local\\Programs\\Python\\Python310\\lib\\site-packages\\pandas\\core\\frame.py:6313\u001b[0m, in \u001b[0;36mDataFrame.sort_values\u001b[1;34m(self, by, axis, ascending, inplace, kind, na_position, ignore_index, key)\u001b[0m\n\u001b[0;32m   6309\u001b[0m \u001b[39melif\u001b[39;00m \u001b[39mlen\u001b[39m(by):\n\u001b[0;32m   6310\u001b[0m     \u001b[39m# len(by) == 1\u001b[39;00m\n\u001b[0;32m   6312\u001b[0m     by \u001b[39m=\u001b[39m by[\u001b[39m0\u001b[39m]\n\u001b[1;32m-> 6313\u001b[0m     k \u001b[39m=\u001b[39m \u001b[39mself\u001b[39;49m\u001b[39m.\u001b[39;49m_get_label_or_level_values(by, axis\u001b[39m=\u001b[39;49maxis)\n\u001b[0;32m   6315\u001b[0m     \u001b[39m# need to rewrap column in Series to apply key function\u001b[39;00m\n\u001b[0;32m   6316\u001b[0m     \u001b[39mif\u001b[39;00m key \u001b[39mis\u001b[39;00m \u001b[39mnot\u001b[39;00m \u001b[39mNone\u001b[39;00m:\n\u001b[0;32m   6317\u001b[0m         \u001b[39m# error: Incompatible types in assignment (expression has type\u001b[39;00m\n\u001b[0;32m   6318\u001b[0m         \u001b[39m# \"Series\", variable has type \"ndarray\")\u001b[39;00m\n",
      "File \u001b[1;32mc:\\Users\\snsul\\AppData\\Local\\Programs\\Python\\Python310\\lib\\site-packages\\pandas\\core\\generic.py:1840\u001b[0m, in \u001b[0;36mNDFrame._get_label_or_level_values\u001b[1;34m(self, key, axis)\u001b[0m\n\u001b[0;32m   1838\u001b[0m     values \u001b[39m=\u001b[39m \u001b[39mself\u001b[39m\u001b[39m.\u001b[39maxes[axis]\u001b[39m.\u001b[39mget_level_values(key)\u001b[39m.\u001b[39m_values\n\u001b[0;32m   1839\u001b[0m \u001b[39melse\u001b[39;00m:\n\u001b[1;32m-> 1840\u001b[0m     \u001b[39mraise\u001b[39;00m \u001b[39mKeyError\u001b[39;00m(key)\n\u001b[0;32m   1842\u001b[0m \u001b[39m# Check for duplicates\u001b[39;00m\n\u001b[0;32m   1843\u001b[0m \u001b[39mif\u001b[39;00m values\u001b[39m.\u001b[39mndim \u001b[39m>\u001b[39m \u001b[39m1\u001b[39m:\n",
      "\u001b[1;31mKeyError\u001b[0m: 'Global waste to ocean percentage'"
     ]
    }
   ],
   "source": [
    "#Cleanse imported csv file\n",
    "#Answer question: Which countries emit most plastic to ocean?\n",
    "global_waste.drop([\"Code\", \"Year\"], axis=1, inplace=True)\n",
    "#global_waste.rename(columns = {\"Global waste to ocean percentage\": \"Waste Percentage\"}, inplace=True)\n",
    "global_waste\n",
    "#top_20_contributers = global_waste.sort_values(by=[\"Global waste to ocean percentage\"], axis=1, ascending=False).head(10)\n",
    "print(global_waste.head(15))\n",
    "#global_waste.dtypes\n",
    "#global_waste.head(10)\n",
    "#print(global_waste)"
   ]
  },
  {
   "cell_type": "code",
   "execution_count": 109,
   "metadata": {},
   "outputs": [],
   "source": [
    "#Answer question: Where does all the plastic accumulate in the ocean?"
   ]
  },
  {
   "cell_type": "code",
   "execution_count": 110,
   "metadata": {},
   "outputs": [],
   "source": [
    "#Design and display graph(s) answers to above questions"
   ]
  }
 ],
 "metadata": {
  "kernelspec": {
   "display_name": "Python 3.10.5 64-bit",
   "language": "python",
   "name": "python3"
  },
  "language_info": {
   "codemirror_mode": {
    "name": "ipython",
    "version": 3
   },
   "file_extension": ".py",
   "mimetype": "text/x-python",
   "name": "python",
   "nbconvert_exporter": "python",
   "pygments_lexer": "ipython3",
   "version": "3.10.5"
  },
  "orig_nbformat": 4,
  "vscode": {
   "interpreter": {
    "hash": "bbbfaa04ea49032bada6a620758d47dad04e0dd0df212ae9f3eea5ce073a02a4"
   }
  }
 },
 "nbformat": 4,
 "nbformat_minor": 2
}
